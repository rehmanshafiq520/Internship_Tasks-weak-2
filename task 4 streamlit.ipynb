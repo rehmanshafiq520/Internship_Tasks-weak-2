{
 "cells": [
  {
   "cell_type": "code",
   "execution_count": null,
   "id": "38f62b2d-2181-46fe-b404-7d3c9cd4cb3a",
   "metadata": {},
   "outputs": [],
   "source": [
    "import streamlit as st\n",
    "from Task4_Context_Aware_Chatbot_Using_LangChain_or_RAG import load_chat_chain\n",
    "\n",
    "st.set_page_config(page_title=\"Context-Aware Chatbot\", page_icon=\"🧠\")\n",
    "st.title(\"🧠 Context-Aware AI Chatbot\")\n",
    "st.markdown(\"Ask anything from your local documents. Your chat is context-aware!\")\n",
    "\n",
    "if \"chain\" not in st.session_state:\n",
    "    with st.spinner(\"Loading model and vector index...\"):\n",
    "        st.session_state.chain = load_chat_chain()\n",
    "        st.session_state.chat_history = []\n",
    "\n",
    "user_query = st.text_input(\"Ask your question here:\", placeholder=\"e.g. What are techniques of AI?\", key=\"user_input\")\n",
    "\n",
    "if user_query:\n",
    "    with st.spinner(\"Thinking...\"):\n",
    "        result = st.session_state.chain.invoke({\n",
    "            \"question\": user_query,\n",
    "            \"chat_history\": st.session_state.chat_history\n",
    "        })\n",
    "\n",
    "        st.session_state.chat_history.append((user_query, result[\"answer\"]))\n",
    "\n",
    "if st.session_state.get(\"chat_history\"):\n",
    "    st.markdown(\"###  Chat History\")\n",
    "    for i, (q, a) in enumerate(st.session_state.chat_history[::-1]):\n",
    "        st.markdown(f\"** You:** {q}\")\n",
    "        st.markdown(f\"** Bot:** {a}\")\n",
    "        st.divider()"
   ]
  }
 ],
 "metadata": {
  "kernelspec": {
   "display_name": "Python 3 (ipykernel)",
   "language": "python",
   "name": "python3"
  },
  "language_info": {
   "codemirror_mode": {
    "name": "ipython",
    "version": 3
   },
   "file_extension": ".py",
   "mimetype": "text/x-python",
   "name": "python",
   "nbconvert_exporter": "python",
   "pygments_lexer": "ipython3",
   "version": "3.12.7"
  }
 },
 "nbformat": 4,
 "nbformat_minor": 5
}
